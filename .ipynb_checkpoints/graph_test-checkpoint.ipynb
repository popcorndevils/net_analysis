{
 "cells": [
  {
   "cell_type": "code",
   "execution_count": 1,
   "id": "87f07aef-f73e-41cd-afb0-5b16a18e6b4a",
   "metadata": {},
   "outputs": [],
   "source": [
    "import pandas as pd\n",
    "from grapher import Grapher, GrapherAttribute"
   ]
  },
  {
   "cell_type": "code",
   "execution_count": 2,
   "id": "aadae3ef-2c5b-4a54-ac78-711118e9778d",
   "metadata": {},
   "outputs": [],
   "source": [
    "df_capture = pd.read_csv(\"capture.csv\")"
   ]
  },
  {
   "cell_type": "code",
   "execution_count": 3,
   "id": "56e3420d-5744-454f-8623-bcec379e729d",
   "metadata": {},
   "outputs": [
    {
     "name": "stdout",
     "output_type": "stream",
     "text": [
      "44127\n"
     ]
    }
   ],
   "source": [
    "print(len(df_capture))"
   ]
  },
  {
   "cell_type": "code",
   "execution_count": 4,
   "id": "41c10c0e-0e8f-439b-b74e-7706f8759986",
   "metadata": {},
   "outputs": [
    {
     "data": {
      "text/html": [
       "<div>\n",
       "<style scoped>\n",
       "    .dataframe tbody tr th:only-of-type {\n",
       "        vertical-align: middle;\n",
       "    }\n",
       "\n",
       "    .dataframe tbody tr th {\n",
       "        vertical-align: top;\n",
       "    }\n",
       "\n",
       "    .dataframe thead th {\n",
       "        text-align: right;\n",
       "    }\n",
       "</style>\n",
       "<table border=\"1\" class=\"dataframe\">\n",
       "  <thead>\n",
       "    <tr style=\"text-align: right;\">\n",
       "      <th></th>\n",
       "      <th>No.</th>\n",
       "      <th>Time</th>\n",
       "      <th>Source</th>\n",
       "      <th>Destination</th>\n",
       "      <th>Protocol</th>\n",
       "      <th>Length</th>\n",
       "      <th>Info</th>\n",
       "    </tr>\n",
       "  </thead>\n",
       "  <tbody>\n",
       "    <tr>\n",
       "      <th>0</th>\n",
       "      <td>1</td>\n",
       "      <td>0.0</td>\n",
       "      <td>65.246.5.18</td>\n",
       "      <td>192.168.1.162</td>\n",
       "      <td>UDP</td>\n",
       "      <td>1292</td>\n",
       "      <td>443  &gt;  50854 Len=1250</td>\n",
       "    </tr>\n",
       "    <tr>\n",
       "      <th>1</th>\n",
       "      <td>2</td>\n",
       "      <td>0.0</td>\n",
       "      <td>65.246.5.18</td>\n",
       "      <td>192.168.1.162</td>\n",
       "      <td>UDP</td>\n",
       "      <td>1292</td>\n",
       "      <td>443  &gt;  50854 Len=1250</td>\n",
       "    </tr>\n",
       "    <tr>\n",
       "      <th>2</th>\n",
       "      <td>3</td>\n",
       "      <td>0.0</td>\n",
       "      <td>65.246.5.18</td>\n",
       "      <td>192.168.1.162</td>\n",
       "      <td>UDP</td>\n",
       "      <td>1292</td>\n",
       "      <td>443  &gt;  50854 Len=1250</td>\n",
       "    </tr>\n",
       "    <tr>\n",
       "      <th>3</th>\n",
       "      <td>4</td>\n",
       "      <td>0.0</td>\n",
       "      <td>65.246.5.18</td>\n",
       "      <td>192.168.1.162</td>\n",
       "      <td>UDP</td>\n",
       "      <td>1292</td>\n",
       "      <td>443  &gt;  50854 Len=1250</td>\n",
       "    </tr>\n",
       "    <tr>\n",
       "      <th>4</th>\n",
       "      <td>5</td>\n",
       "      <td>0.0</td>\n",
       "      <td>65.246.5.18</td>\n",
       "      <td>192.168.1.162</td>\n",
       "      <td>UDP</td>\n",
       "      <td>1292</td>\n",
       "      <td>443  &gt;  50854 Len=1250</td>\n",
       "    </tr>\n",
       "  </tbody>\n",
       "</table>\n",
       "</div>"
      ],
      "text/plain": [
       "   No.  Time       Source    Destination Protocol  Length  \\\n",
       "0    1   0.0  65.246.5.18  192.168.1.162      UDP    1292   \n",
       "1    2   0.0  65.246.5.18  192.168.1.162      UDP    1292   \n",
       "2    3   0.0  65.246.5.18  192.168.1.162      UDP    1292   \n",
       "3    4   0.0  65.246.5.18  192.168.1.162      UDP    1292   \n",
       "4    5   0.0  65.246.5.18  192.168.1.162      UDP    1292   \n",
       "\n",
       "                     Info  \n",
       "0  443  >  50854 Len=1250  \n",
       "1  443  >  50854 Len=1250  \n",
       "2  443  >  50854 Len=1250  \n",
       "3  443  >  50854 Len=1250  \n",
       "4  443  >  50854 Len=1250  "
      ]
     },
     "execution_count": 4,
     "metadata": {},
     "output_type": "execute_result"
    }
   ],
   "source": [
    "df_capture.head()"
   ]
  },
  {
   "cell_type": "code",
   "execution_count": 5,
   "id": "09b22135-962a-4791-9360-86a222d0992b",
   "metadata": {},
   "outputs": [],
   "source": [
    "_graph = Grapher(df_capture, \"Source\", \"Destination\")"
   ]
  },
  {
   "cell_type": "code",
   "execution_count": 6,
   "id": "745a3c5f-40bf-44eb-84b4-4858f79fb9ac",
   "metadata": {},
   "outputs": [],
   "source": [
    "def node_name(node):\n",
    "    return str(node)\n",
    "\n",
    "def node_text(node, word):\n",
    "    return f\"{word}_{node}\"\n",
    "\n",
    "def node_conns(graph, node):\n",
    "    return len(graph[node])\n",
    "\n",
    "def edge_count(edge, graph):\n",
    "    return len(graph.edges.get_events(edge))"
   ]
  },
  {
   "cell_type": "code",
   "execution_count": 7,
   "id": "691605c9-77f8-4118-a308-3db1993e78d9",
   "metadata": {},
   "outputs": [],
   "source": [
    "_attribs = [\n",
    "    GrapherAttribute(\"index\", node_name),\n",
    "    GrapherAttribute(\"word\", node_text, word = \"hello_word\"),\n",
    "    GrapherAttribute(\"word2\", node_text, \"another word!\"),\n",
    "    GrapherAttribute(\"count\", node_conns),\n",
    "]\n",
    "\n",
    "_graph.apply(_attribs)\n",
    "_graph.apply(GrapherAttribute(\"edge_count\", edge_count), feature = \"edge\")"
   ]
  },
  {
   "cell_type": "code",
   "execution_count": 15,
   "id": "cd1eb93f-48f9-4851-8e7b-40456b5be442",
   "metadata": {},
   "outputs": [
    {
     "name": "stdout",
     "output_type": "stream",
     "text": [
      "('65.246.5.18', '192.168.1.162') {'edge_count': 42314}\n",
      "('192.168.1.162', '34.104.35.123') {'edge_count': 9}\n",
      "('192.168.1.162', '224.0.0.251') {'edge_count': 58}\n",
      "('192.168.1.162', '192.168.1.154') {'edge_count': 131}\n",
      "('192.168.1.162', '162.254.192.101') {'edge_count': 32}\n",
      "('192.168.1.162', '44.198.241.39') {'edge_count': 6}\n",
      "('192.168.1.162', '54.157.158.186') {'edge_count': 8}\n",
      "('192.168.1.162', '239.255.255.250') {'edge_count': 5}\n",
      "('192.168.1.162', '192.168.1.100') {'edge_count': 17}\n",
      "('192.168.1.162', '192.168.1.101') {'edge_count': 17}\n",
      "('192.168.1.162', '104.90.72.98') {'edge_count': 3}\n",
      "('192.168.1.162', '192.168.1.167') {'edge_count': 9}\n",
      "('192.168.1.162', '104.154.127.126') {'edge_count': 5}\n",
      "('192.168.1.162', '35.186.224.42') {'edge_count': 16}\n",
      "('192.168.1.162', '142.250.80.67') {'edge_count': 6}\n",
      "('192.168.1.162', '142.250.176.202') {'edge_count': 6}\n",
      "('192.168.1.162', '142.251.40.173') {'edge_count': 6}\n",
      "('192.168.1.162', '142.251.40.106') {'edge_count': 6}\n",
      "('192.168.1.162', '167.172.148.246') {'edge_count': 7}\n",
      "('192.168.1.162', '172.253.115.188') {'edge_count': 6}\n",
      "('192.168.1.162', '142.251.35.163') {'edge_count': 10}\n",
      "('192.168.1.162', '192.168.1.1') {'edge_count': 22}\n",
      "('192.168.1.162', '52.182.143.210') {'edge_count': 32}\n",
      "('192.168.1.162', '20.50.73.9') {'edge_count': 19}\n",
      "('192.168.1.162', '35.186.224.47') {'edge_count': 16}\n",
      "('192.168.1.162', '40.71.13.170') {'edge_count': 3}\n",
      "('192.168.1.162', '104.16.26.35') {'edge_count': 6}\n",
      "('192.168.1.162', '140.82.114.3') {'edge_count': 9}\n",
      "('192.168.1.162', '142.251.40.138') {'edge_count': 6}\n",
      "('192.168.1.162', '185.199.108.133') {'edge_count': 6}\n",
      "('192.168.1.162', '23.34.164.86') {'edge_count': 14}\n",
      "('192.168.1.162', '23.221.224.11') {'edge_count': 36}\n",
      "('192.168.1.162', '157.240.241.20') {'edge_count': 12}\n",
      "('192.168.1.162', '192.168.1.255') {'edge_count': 4}\n",
      "('192.168.1.162', '142.251.40.110') {'edge_count': 4}\n",
      "('192.168.1.162', '104.18.25.217') {'edge_count': 6}\n",
      "('192.168.1.162', '104.127.176.51') {'edge_count': 4}\n",
      "('192.168.1.162', '142.251.40.206') {'edge_count': 81}\n",
      "('192.168.1.162', '204.79.197.219') {'edge_count': 1}\n",
      "('192.168.1.162', '23.221.224.59') {'edge_count': 32}\n",
      "('192.168.1.162', '142.251.40.234') {'edge_count': 6}\n",
      "('192.168.1.162', '23.221.224.51') {'edge_count': 20}\n",
      "('192.168.1.162', '142.250.64.78') {'edge_count': 4}\n",
      "('192.168.1.162', '172.64.199.35') {'edge_count': 68}\n",
      "('192.168.1.162', '184.29.128.154') {'edge_count': 4}\n",
      "('192.168.1.162', '35.186.224.25') {'edge_count': 88}\n",
      "('192.168.1.162', '224.0.0.22') {'edge_count': 2}\n",
      "('192.168.1.162', '52.226.139.121') {'edge_count': 8}\n",
      "('192.168.1.162', '216.239.32.116') {'edge_count': 30}\n",
      "('192.168.1.162', '142.250.80.3') {'edge_count': 26}\n",
      "('192.168.1.162', '151.205.4.25') {'edge_count': 4}\n",
      "('192.168.1.162', '151.205.4.181') {'edge_count': 4}\n",
      "('192.168.1.162', '142.251.40.170') {'edge_count': 2}\n",
      "('192.168.1.162', '157.240.241.55') {'edge_count': 237}\n",
      "('192.168.1.162', '104.26.11.240') {'edge_count': 3}\n",
      "('192.168.1.162', '142.250.80.99') {'edge_count': 25}\n",
      "('192.168.1.162', '142.250.176.206') {'edge_count': 20}\n",
      "('192.168.1.157', '224.0.0.251') {'edge_count': 11}\n",
      "('224.0.0.251', '192.168.1.155') {'edge_count': 5}\n",
      "('224.0.0.251', '192.168.1.154') {'edge_count': 23}\n",
      "('224.0.0.251', '192.168.1.177') {'edge_count': 5}\n",
      "('fe80::3e31:78ff:fe3b:fbf', 'ff02::fb') {'edge_count': 11}\n",
      "('ff02::fb', 'fe80::48ae:ac13:4feb:2f72') {'edge_count': 57}\n",
      "('192.168.1.1', '239.255.255.250') {'edge_count': 89}\n",
      "('192.168.1.1', '224.0.0.1') {'edge_count': 2}\n",
      "('239.255.255.250', '192.168.1.101') {'edge_count': 26}\n",
      "('239.255.255.250', '192.168.1.100') {'edge_count': 36}\n",
      "('239.255.255.250', '192.168.1.155') {'edge_count': 33}\n",
      "('239.255.255.250', '192.168.1.175') {'edge_count': 8}\n",
      "('fe80::48ae:ac13:4feb:2f72', 'fe80::baf8:53ff:fef9:99b9') {'edge_count': 12}\n",
      "('fe80::48ae:ac13:4feb:2f72', 'ff02::16') {'edge_count': 2}\n",
      "('Arcadyan_f9:99:b8', 'IEEE-1905.1-Control') {'edge_count': 12}\n",
      "('Arcadyan_f9:99:b9', 'LLDP_Multicast') {'edge_count': 12}\n",
      "('Arcadyan_f9:99:b9', 'Broadcast') {'edge_count': 108}\n",
      "('Arcadyan_f9:99:b9', 'Spanning-tree-(for-bridges)_00') {'edge_count': 105}\n",
      "('Arcadyan_f9:99:b9', 'ASUSTekC_c0:4d:f6') {'edge_count': 8}\n",
      "('Broadcast', 'ARRISGro_77:dc:68') {'edge_count': 1}\n",
      "('fe80::baf8:53ff:fef9:99b9', 'ff02::1:ff9b:a5f3') {'edge_count': 3}\n",
      "('fe80::baf8:53ff:fef9:99b9', 'ff02::1') {'edge_count': 2}\n",
      "('ASUSTekC_c0:4d:f6', 'AmazonTe_af:19:8c') {'edge_count': 6}\n",
      "('ASUSTekC_c0:4d:f6', 'ARRISGro_41:94:1f') {'edge_count': 4}\n",
      "('ASUSTekC_c0:4d:f6', 'ARRISGro_77:dc:68') {'edge_count': 4}\n",
      "('fe80::24c7:c9ff:fea4:ff9e', 'ff02::2') {'edge_count': 1}\n"
     ]
    }
   ],
   "source": [
    "for e in _graph.edges:\n",
    "    print(e, _graph.edges[e])"
   ]
  },
  {
   "cell_type": "code",
   "execution_count": 9,
   "id": "755cd16f-85b1-47ab-8c22-c5f4f94a52e4",
   "metadata": {},
   "outputs": [
    {
     "name": "stdout",
     "output_type": "stream",
     "text": [
      "{'index': '192.168.1.162', 'word': 'hello_word_192.168.1.162', 'word2': 'another word!_192.168.1.162', 'count': 57}\n"
     ]
    }
   ],
   "source": [
    "print(_graph.nodes['192.168.1.162'])"
   ]
  }
 ],
 "metadata": {
  "kernelspec": {
   "display_name": "Python 3 (ipykernel)",
   "language": "python",
   "name": "python3"
  },
  "language_info": {
   "codemirror_mode": {
    "name": "ipython",
    "version": 3
   },
   "file_extension": ".py",
   "mimetype": "text/x-python",
   "name": "python",
   "nbconvert_exporter": "python",
   "pygments_lexer": "ipython3",
   "version": "3.10.0"
  }
 },
 "nbformat": 4,
 "nbformat_minor": 5
}
